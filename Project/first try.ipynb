{
 "cells": [
  {
   "cell_type": "code",
   "execution_count": 1,
   "id": "693c59b5",
   "metadata": {},
   "outputs": [
    {
     "name": "stdout",
     "output_type": "stream",
     "text": [
      "d2qu17hr01qluccq2hi0d2qu17hr01qluccq2hig\n",
      "API Key loaded successfully ✅\n"
     ]
    }
   ],
   "source": [
    "import os\n",
    "\n",
    "# Get the API key from environment\n",
    "api_key = os.getenv(\"FINNHUB_API_KEY\")\n",
    "print(api_key)\n",
    "\n",
    "if api_key:\n",
    "    print(\"API Key loaded successfully ✅\")\n",
    "else:\n",
    "    print(\"API Key not found ❌, set the environment variable correctly\")\n"
   ]
  },
  {
   "cell_type": "code",
   "execution_count": 2,
   "id": "eb420132",
   "metadata": {},
   "outputs": [
    {
     "name": "stdout",
     "output_type": "stream",
     "text": [
      "API Key: d2qu17hr01qluccq2hi0d2qu17hr01qluccq2hig\n",
      "['oanda', 'fxcm', 'forex.com', 'fhfx', 'capital', 'pepperstone', 'fxpig', 'ic markets', 'pepperstoneuk', 'icmtrader']\n"
     ]
    }
   ],
   "source": [
    "import os\n",
    "import finnhub\n",
    "\n",
    "api_key = os.getenv(\"FINNHUB_API_KEY\")\n",
    "print(\"API Key:\", api_key)  # just to confirm it's loading\n",
    "\n",
    "finnhub_client = finnhub.Client(api_key=api_key)\n",
    "\n",
    "try:\n",
    "    res = finnhub_client.forex_exchanges()\n",
    "    print(res)\n",
    "except Exception as e:\n",
    "    print(\"Error:\", e)\n"
   ]
  },
  {
   "cell_type": "code",
   "execution_count": 3,
   "id": "2d995688",
   "metadata": {},
   "outputs": [
    {
     "name": "stdout",
     "output_type": "stream",
     "text": [
      "Error fetching data: FinnhubAPIException(status_code: 403): You don't have access to this resource.\n"
     ]
    }
   ],
   "source": [
    "import os\n",
    "import finnhub\n",
    "import time\n",
    "\n",
    "# Load API key from environment\n",
    "api_key = os.getenv(\"FINNHUB_API_KEY\")\n",
    "if not api_key:\n",
    "    raise ValueError(\"API Key not found. Please set FINNHUB_API_KEY environment variable.\")\n",
    "\n",
    "# Initialize client\n",
    "finnhub_client = finnhub.Client(api_key=api_key)\n",
    "\n",
    "# Get current timestamp (UNIX format)\n",
    "now = int(time.time())\n",
    "# Fetch last 24 hours (1 day back)\n",
    "yesterday = now - 24 * 60 * 60  \n",
    "\n",
    "# Fetch gold price candles (OANDA:XAU_USD)\n",
    "try:\n",
    "    candles = finnhub_client.forex_candles(\n",
    "        symbol=\"OANDA:XAU_USD\", \n",
    "        resolution='5',   # 5-minute candles\n",
    "        _from=yesterday, \n",
    "        to=now\n",
    "    )\n",
    "\n",
    "    if candles and candles['s'] == 'ok':\n",
    "        print(\"Gold price data (XAU/USD):\")\n",
    "        for t, o, h, l, c in zip(candles['t'], candles['o'], candles['h'], candles['l'], candles['c']):\n",
    "            print(f\"Time: {time.strftime('%Y-%m-%d %H:%M:%S', time.localtime(t))}, \"\n",
    "                  f\"Open: {o}, High: {h}, Low: {l}, Close: {c}\")\n",
    "    else:\n",
    "        print(\"No data returned:\", candles)\n",
    "\n",
    "except Exception as e:\n",
    "    print(\"Error fetching data:\", e)\n"
   ]
  },
  {
   "cell_type": "code",
   "execution_count": 5,
   "id": "2ccfbbd6",
   "metadata": {},
   "outputs": [
    {
     "name": "stdout",
     "output_type": "stream",
     "text": [
      "{'error': \"You don't have access to this resource.\"}\n"
     ]
    },
    {
     "ename": "KeyError",
     "evalue": "'c'",
     "output_type": "error",
     "traceback": [
      "\u001b[1;31m---------------------------------------------------------------------------\u001b[0m",
      "\u001b[1;31mKeyError\u001b[0m                                  Traceback (most recent call last)",
      "Cell \u001b[1;32mIn[5], line 11\u001b[0m\n\u001b[0;32m      8\u001b[0m response \u001b[38;5;241m=\u001b[39m requests\u001b[38;5;241m.\u001b[39mget(url)\u001b[38;5;241m.\u001b[39mjson()\n\u001b[0;32m     10\u001b[0m \u001b[38;5;28mprint\u001b[39m(response)\n\u001b[1;32m---> 11\u001b[0m \u001b[38;5;28mprint\u001b[39m(\u001b[38;5;124m\"\u001b[39m\u001b[38;5;124mGold Price (USD):\u001b[39m\u001b[38;5;124m\"\u001b[39m, \u001b[43mresponse\u001b[49m\u001b[43m[\u001b[49m\u001b[38;5;124;43m\"\u001b[39;49m\u001b[38;5;124;43mc\u001b[39;49m\u001b[38;5;124;43m\"\u001b[39;49m\u001b[43m]\u001b[49m)  \u001b[38;5;66;03m# current price\u001b[39;00m\n",
      "\u001b[1;31mKeyError\u001b[0m: 'c'"
     ]
    }
   ],
   "source": [
    "import os\n",
    "import requests\n",
    "\n",
    "API_KEY = os.getenv(\"FINNHUB_API_KEY\")  # store your key in env variable\n",
    "symbol = \"OANDA:XAU_USD\"\n",
    "\n",
    "url = f\"https://finnhub.io/api/v1/quote?symbol={symbol}&token={API_KEY}\"\n",
    "response = requests.get(url).json()\n",
    "\n",
    "print(response)\n",
    "print(\"Gold Price (USD):\", response[\"c\"])  # current price\n"
   ]
  },
  {
   "cell_type": "code",
   "execution_count": 6,
   "id": "54ee54c1",
   "metadata": {},
   "outputs": [
    {
     "name": "stdout",
     "output_type": "stream",
     "text": [
      "Full response: {'c': 0, 'd': None, 'dp': None, 'h': 0, 'l': 0, 'o': 0, 'pc': 0, 't': 0}\n",
      "Gold Price (USD): 0\n"
     ]
    }
   ],
   "source": [
    "import os\n",
    "import requests\n",
    "\n",
    "API_KEY = os.getenv(\"FINNHUB_API_KEY\")  # your key\n",
    "symbol = \"XAUUSD\"   # gold spot price in USD\n",
    "\n",
    "url = f\"https://finnhub.io/api/v1/quote?symbol={symbol}&token={API_KEY}\"\n",
    "response = requests.get(url).json()\n",
    "\n",
    "print(\"Full response:\", response)   # debug\n",
    "if \"c\" in response:\n",
    "    print(\"Gold Price (USD):\", response[\"c\"])  # current price\n",
    "else:\n",
    "    print(\"Error:\", response)\n"
   ]
  },
  {
   "cell_type": "code",
   "execution_count": 7,
   "id": "0e04aabb",
   "metadata": {},
   "outputs": [
    {
     "name": "stdout",
     "output_type": "stream",
     "text": [
      "Full response: {'error': \"You don't have access to this resource.\"}\n",
      "No data, check symbol or API plan.\n"
     ]
    }
   ],
   "source": [
    "import os\n",
    "import requests\n",
    "\n",
    "API_KEY = os.getenv(\"FINNHUB_API_KEY\")\n",
    "\n",
    "# Try OANDA format\n",
    "symbol = \"OANDA:XAU_USD\"\n",
    "\n",
    "url = f\"https://finnhub.io/api/v1/quote?symbol={symbol}&token={API_KEY}\"\n",
    "response = requests.get(url).json()\n",
    "\n",
    "print(\"Full response:\", response)\n",
    "if \"c\" in response and response[\"c\"] != 0:\n",
    "    print(\"Gold Price (USD):\", response[\"c\"])\n",
    "else:\n",
    "    print(\"No data, check symbol or API plan.\")\n"
   ]
  },
  {
   "cell_type": "code",
   "execution_count": 8,
   "id": "14d5ce29",
   "metadata": {},
   "outputs": [
    {
     "name": "stdout",
     "output_type": "stream",
     "text": [
      "EUR/USD Price: None\n"
     ]
    }
   ],
   "source": [
    "import os, requests\n",
    "\n",
    "API_KEY = os.getenv(\"FINNHUB_API_KEY\")\n",
    "symbol = \"OANDA:EUR_USD\"   # Euro vs Dollar\n",
    "\n",
    "url = f\"https://finnhub.io/api/v1/quote?symbol={symbol}&token={API_KEY}\"\n",
    "response = requests.get(url).json()\n",
    "\n",
    "print(\"EUR/USD Price:\", response.get(\"c\"))\n"
   ]
  },
  {
   "cell_type": "code",
   "execution_count": 9,
   "id": "4fb3c4ad",
   "metadata": {},
   "outputs": [
    {
     "name": "stdout",
     "output_type": "stream",
     "text": [
      "Full response: {'error': \"You don't have access to this resource.\"}\n",
      "Current price: None\n"
     ]
    }
   ],
   "source": [
    "import os, requests\n",
    "\n",
    "API_KEY = os.getenv(\"FINNHUB_API_KEY\")\n",
    "symbol = \"OANDA:EUR_USD\"\n",
    "\n",
    "url = f\"https://finnhub.io/api/v1/quote?symbol={symbol}&token={API_KEY}\"\n",
    "response = requests.get(url).json()\n",
    "\n",
    "print(\"Full response:\", response)   # <--- check this\n",
    "print(\"Current price:\", response.get(\"c\"))\n"
   ]
  },
  {
   "cell_type": "code",
   "execution_count": 10,
   "id": "0448d605",
   "metadata": {},
   "outputs": [
    {
     "name": "stdout",
     "output_type": "stream",
     "text": [
      "BTC/USDT Price: 109871.71\n"
     ]
    }
   ],
   "source": [
    "symbol = \"BINANCE:BTCUSDT\"  # Bitcoin vs USDT\n",
    "url = f\"https://finnhub.io/api/v1/quote?symbol={symbol}&token={API_KEY}\"\n",
    "response = requests.get(url).json()\n",
    "\n",
    "print(\"BTC/USDT Price:\", response.get(\"c\"))"
   ]
  }
 ],
 "metadata": {
  "kernelspec": {
   "display_name": "Python 3",
   "language": "python",
   "name": "python3"
  },
  "language_info": {
   "codemirror_mode": {
    "name": "ipython",
    "version": 3
   },
   "file_extension": ".py",
   "mimetype": "text/x-python",
   "name": "python",
   "nbconvert_exporter": "python",
   "pygments_lexer": "ipython3",
   "version": "3.8.8"
  }
 },
 "nbformat": 4,
 "nbformat_minor": 5
}
